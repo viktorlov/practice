{
 "cells": [
  {
   "cell_type": "code",
   "execution_count": 63,
   "metadata": {},
   "outputs": [
    {
     "name": "stdout",
     "output_type": "stream",
     "text": [
      "1\n",
      "2\n",
      "3\n",
      "4\n",
      "5\n",
      "6\n",
      "7\n",
      "8\n",
      "9\n",
      "1.0\n",
      "2.0\n",
      "3.0\n",
      "4.0\n",
      "5.0\n",
      "6.0\n",
      "7.0\n",
      "8.0\n",
      "9.0\n",
      "[1, 2, 3, 4, 5, 6, 7, 8, 9]\n",
      "[4, 5.5, 6]\n",
      "(4, 5.5, 6)\n"
     ]
    }
   ],
   "source": [
    "nested_list = [1, 2, 3, 4, 5, 6, 7, 8, 9,\n",
    "               1.0, 2.0, 3.0, 4.0, 5.0, 6.0, 7.0, 8.0, 9.0,\n",
    "               [1, 2, 3, 4, 5, 6, 7, 8, 9],\n",
    "               \"1\", \"2\", \"3\", \"4\", \"5\",\n",
    "               [\"1\", \"2\", \"3\", 4, 5.5, 6, ],\n",
    "               [\"1\", \"2\", \"3\", \"4\", \"5\", ],\n",
    "               (\"1\", \"2\", \"3\", 4, 5.5, 6, ),\n",
    "               (\"1\", \"2\", \"3\", \"4\", \"5\", ),\n",
    "               ]\n",
    "\n",
    "only_numbers = []\n",
    "\n",
    "for i in nested_list:\n",
    "\n",
    "    if type(i) in [int, float]:\n",
    "        only_numbers.append(i)\n",
    "\n",
    "    temp = []\n",
    "    if type(i) == list:\n",
    "        for j in i:\n",
    "            if type(j) in [int, float]:\n",
    "                temp.append(j)\n",
    "        if len(temp) > 0:\n",
    "            only_numbers.append(temp)\n",
    "\n",
    "    temp = []\n",
    "    if type(i) == tuple:\n",
    "        for j in i:\n",
    "            if type(j) in [int, float]:\n",
    "                temp = *temp, j\n",
    "        if len(temp) > 0:\n",
    "            only_numbers.append(temp)\n",
    "\n",
    "print(*only_numbers, sep = \"\\n\")"
   ]
  },
  {
   "cell_type": "code",
   "execution_count": 61,
   "metadata": {},
   "outputs": [],
   "source": []
  },
  {
   "cell_type": "code",
   "execution_count": 61,
   "metadata": {},
   "outputs": [],
   "source": []
  },
  {
   "cell_type": "code",
   "execution_count": 61,
   "metadata": {},
   "outputs": [],
   "source": []
  },
  {
   "cell_type": "code",
   "execution_count": 61,
   "metadata": {},
   "outputs": [],
   "source": []
  }
 ],
 "metadata": {
  "kernelspec": {
   "display_name": "Python 3 (ipykernel)",
   "language": "python",
   "name": "python3"
  },
  "language_info": {
   "codemirror_mode": {
    "name": "ipython",
    "version": 3
   },
   "file_extension": ".py",
   "mimetype": "text/x-python",
   "name": "python",
   "nbconvert_exporter": "python",
   "pygments_lexer": "ipython3",
   "version": "3.10.8"
  }
 },
 "nbformat": 4,
 "nbformat_minor": 1
}
