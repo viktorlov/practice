{
 "cells": [
  {
   "cell_type": "code",
   "execution_count": 1,
   "id": "b8256990",
   "metadata": {
    "ExecuteTime": {
     "end_time": "2022-08-01T17:32:23.936557Z",
     "start_time": "2022-08-01T17:32:23.927553Z"
    }
   },
   "outputs": [],
   "source": [
    "import pandas as pd"
   ]
  },
  {
   "cell_type": "code",
   "execution_count": 2,
   "id": "2e83a815",
   "metadata": {
    "ExecuteTime": {
     "end_time": "2022-08-01T17:32:23.936557Z",
     "start_time": "2022-08-01T17:32:23.927553Z"
    }
   },
   "outputs": [],
   "source": [
    "pd.set_option('display.float_format', lambda z: '%.4f' % z) # эта строка поможет удобно выводить большие числа в этом ноутбуке"
   ]
  },
  {
   "cell_type": "code",
   "execution_count": 3,
   "id": "fe401a2d",
   "metadata": {
    "ExecuteTime": {
     "end_time": "2022-08-01T17:32:26.022505Z",
     "start_time": "2022-08-01T17:32:25.976503Z"
    }
   },
   "outputs": [
    {
     "data": {
      "text/plain": "     Sex  Length  Diameter  Height  Whole weight  Shucked weight  \\\n0      M  0.4550    0.3650  0.0950        0.5140          0.2245   \n1      M  0.3500    0.2650  0.0900        0.2255          0.0995   \n2      F  0.5300    0.4200  0.1350        0.6770          0.2565   \n3      M  0.4400    0.3650  0.1250        0.5160          0.2155   \n4      I  0.3300    0.2550  0.0800        0.2050          0.0895   \n...   ..     ...       ...     ...           ...             ...   \n4172   F  0.5650    0.4500  0.1650        0.8870          0.3700   \n4173   M  0.5900    0.4400  0.1350        0.9660          0.4390   \n4174   M  0.6000    0.4750  0.2050        1.1760          0.5255   \n4175   F  0.6250    0.4850  0.1500        1.0945          0.5310   \n4176   M  0.7100    0.5550  0.1950        1.9485          0.9455   \n\n      Viscera weight  Shell weight  Rings  \n0             0.1010        0.1500     15  \n1             0.0485        0.0700      7  \n2             0.1415        0.2100      9  \n3             0.1140        0.1550     10  \n4             0.0395        0.0550      7  \n...              ...           ...    ...  \n4172          0.2390        0.2490     11  \n4173          0.2145        0.2605     10  \n4174          0.2875        0.3080      9  \n4175          0.2610        0.2960     10  \n4176          0.3765        0.4950     12  \n\n[4177 rows x 9 columns]",
      "text/html": "<div>\n<style scoped>\n    .dataframe tbody tr th:only-of-type {\n        vertical-align: middle;\n    }\n\n    .dataframe tbody tr th {\n        vertical-align: top;\n    }\n\n    .dataframe thead th {\n        text-align: right;\n    }\n</style>\n<table border=\"1\" class=\"dataframe\">\n  <thead>\n    <tr style=\"text-align: right;\">\n      <th></th>\n      <th>Sex</th>\n      <th>Length</th>\n      <th>Diameter</th>\n      <th>Height</th>\n      <th>Whole weight</th>\n      <th>Shucked weight</th>\n      <th>Viscera weight</th>\n      <th>Shell weight</th>\n      <th>Rings</th>\n    </tr>\n  </thead>\n  <tbody>\n    <tr>\n      <th>0</th>\n      <td>M</td>\n      <td>0.4550</td>\n      <td>0.3650</td>\n      <td>0.0950</td>\n      <td>0.5140</td>\n      <td>0.2245</td>\n      <td>0.1010</td>\n      <td>0.1500</td>\n      <td>15</td>\n    </tr>\n    <tr>\n      <th>1</th>\n      <td>M</td>\n      <td>0.3500</td>\n      <td>0.2650</td>\n      <td>0.0900</td>\n      <td>0.2255</td>\n      <td>0.0995</td>\n      <td>0.0485</td>\n      <td>0.0700</td>\n      <td>7</td>\n    </tr>\n    <tr>\n      <th>2</th>\n      <td>F</td>\n      <td>0.5300</td>\n      <td>0.4200</td>\n      <td>0.1350</td>\n      <td>0.6770</td>\n      <td>0.2565</td>\n      <td>0.1415</td>\n      <td>0.2100</td>\n      <td>9</td>\n    </tr>\n    <tr>\n      <th>3</th>\n      <td>M</td>\n      <td>0.4400</td>\n      <td>0.3650</td>\n      <td>0.1250</td>\n      <td>0.5160</td>\n      <td>0.2155</td>\n      <td>0.1140</td>\n      <td>0.1550</td>\n      <td>10</td>\n    </tr>\n    <tr>\n      <th>4</th>\n      <td>I</td>\n      <td>0.3300</td>\n      <td>0.2550</td>\n      <td>0.0800</td>\n      <td>0.2050</td>\n      <td>0.0895</td>\n      <td>0.0395</td>\n      <td>0.0550</td>\n      <td>7</td>\n    </tr>\n    <tr>\n      <th>...</th>\n      <td>...</td>\n      <td>...</td>\n      <td>...</td>\n      <td>...</td>\n      <td>...</td>\n      <td>...</td>\n      <td>...</td>\n      <td>...</td>\n      <td>...</td>\n    </tr>\n    <tr>\n      <th>4172</th>\n      <td>F</td>\n      <td>0.5650</td>\n      <td>0.4500</td>\n      <td>0.1650</td>\n      <td>0.8870</td>\n      <td>0.3700</td>\n      <td>0.2390</td>\n      <td>0.2490</td>\n      <td>11</td>\n    </tr>\n    <tr>\n      <th>4173</th>\n      <td>M</td>\n      <td>0.5900</td>\n      <td>0.4400</td>\n      <td>0.1350</td>\n      <td>0.9660</td>\n      <td>0.4390</td>\n      <td>0.2145</td>\n      <td>0.2605</td>\n      <td>10</td>\n    </tr>\n    <tr>\n      <th>4174</th>\n      <td>M</td>\n      <td>0.6000</td>\n      <td>0.4750</td>\n      <td>0.2050</td>\n      <td>1.1760</td>\n      <td>0.5255</td>\n      <td>0.2875</td>\n      <td>0.3080</td>\n      <td>9</td>\n    </tr>\n    <tr>\n      <th>4175</th>\n      <td>F</td>\n      <td>0.6250</td>\n      <td>0.4850</td>\n      <td>0.1500</td>\n      <td>1.0945</td>\n      <td>0.5310</td>\n      <td>0.2610</td>\n      <td>0.2960</td>\n      <td>10</td>\n    </tr>\n    <tr>\n      <th>4176</th>\n      <td>M</td>\n      <td>0.7100</td>\n      <td>0.5550</td>\n      <td>0.1950</td>\n      <td>1.9485</td>\n      <td>0.9455</td>\n      <td>0.3765</td>\n      <td>0.4950</td>\n      <td>12</td>\n    </tr>\n  </tbody>\n</table>\n<p>4177 rows × 9 columns</p>\n</div>"
     },
     "execution_count": 3,
     "metadata": {},
     "output_type": "execute_result"
    }
   ],
   "source": [
    "df = pd.read_csv('abalone.csv')\n",
    "df"
   ]
  },
  {
   "cell_type": "code",
   "execution_count": 4,
   "id": "36a4bed0",
   "metadata": {
    "ExecuteTime": {
     "end_time": "2022-08-01T17:34:36.745180Z",
     "start_time": "2022-08-01T17:34:36.721178Z"
    }
   },
   "outputs": [
    {
     "data": {
      "text/plain": "Rings\n1       1\n2       1\n3      15\n4      57\n5     115\n6     259\n7     391\n8     568\n9     689\n10    634\n11    487\n12    267\n13    203\n14    126\n15    103\n16     67\n17     58\n18     42\n19     32\n20     26\n21     14\n22      6\n23      9\n24      2\n25      1\n26      1\n27      2\n29      1\nName: Sex, dtype: int64"
     },
     "execution_count": 4,
     "metadata": {},
     "output_type": "execute_result"
    }
   ],
   "source": [
    "Rings = df.groupby('Rings')['Sex'].count()\n",
    "Rings"
   ]
  },
  {
   "cell_type": "code",
   "execution_count": 5,
   "id": "3f2bdcc5",
   "metadata": {
    "ExecuteTime": {
     "end_time": "2022-08-01T17:35:41.147320Z",
     "start_time": "2022-08-01T17:35:41.069637Z"
    }
   },
   "outputs": [
    {
     "data": {
      "text/plain": "         Sex    Length  Diameter    Height  Whole weight  Shucked weight  \\\ncount   4177 4177.0000 4177.0000 4177.0000     4177.0000       4177.0000   \nunique     3       NaN       NaN       NaN           NaN             NaN   \ntop        M       NaN       NaN       NaN           NaN             NaN   \nfreq    1528       NaN       NaN       NaN           NaN             NaN   \nmean     NaN    0.5240    0.4079    0.1395        0.8287          0.3594   \nstd      NaN    0.1201    0.0992    0.0418        0.4904          0.2220   \nmin      NaN    0.0750    0.0550    0.0000        0.0020          0.0010   \n25%      NaN    0.4500    0.3500    0.1150        0.4415          0.1860   \n50%      NaN    0.5450    0.4250    0.1400        0.7995          0.3360   \n75%      NaN    0.6150    0.4800    0.1650        1.1530          0.5020   \nmax      NaN    0.8150    0.6500    1.1300        2.8255          1.4880   \n\n        Viscera weight  Shell weight     Rings  \ncount        4177.0000     4177.0000 4177.0000  \nunique             NaN           NaN       NaN  \ntop                NaN           NaN       NaN  \nfreq               NaN           NaN       NaN  \nmean            0.1806        0.2388    9.9337  \nstd             0.1096        0.1392    3.2242  \nmin             0.0005        0.0015    1.0000  \n25%             0.0935        0.1300    8.0000  \n50%             0.1710        0.2340    9.0000  \n75%             0.2530        0.3290   11.0000  \nmax             0.7600        1.0050   29.0000  ",
      "text/html": "<div>\n<style scoped>\n    .dataframe tbody tr th:only-of-type {\n        vertical-align: middle;\n    }\n\n    .dataframe tbody tr th {\n        vertical-align: top;\n    }\n\n    .dataframe thead th {\n        text-align: right;\n    }\n</style>\n<table border=\"1\" class=\"dataframe\">\n  <thead>\n    <tr style=\"text-align: right;\">\n      <th></th>\n      <th>Sex</th>\n      <th>Length</th>\n      <th>Diameter</th>\n      <th>Height</th>\n      <th>Whole weight</th>\n      <th>Shucked weight</th>\n      <th>Viscera weight</th>\n      <th>Shell weight</th>\n      <th>Rings</th>\n    </tr>\n  </thead>\n  <tbody>\n    <tr>\n      <th>count</th>\n      <td>4177</td>\n      <td>4177.0000</td>\n      <td>4177.0000</td>\n      <td>4177.0000</td>\n      <td>4177.0000</td>\n      <td>4177.0000</td>\n      <td>4177.0000</td>\n      <td>4177.0000</td>\n      <td>4177.0000</td>\n    </tr>\n    <tr>\n      <th>unique</th>\n      <td>3</td>\n      <td>NaN</td>\n      <td>NaN</td>\n      <td>NaN</td>\n      <td>NaN</td>\n      <td>NaN</td>\n      <td>NaN</td>\n      <td>NaN</td>\n      <td>NaN</td>\n    </tr>\n    <tr>\n      <th>top</th>\n      <td>M</td>\n      <td>NaN</td>\n      <td>NaN</td>\n      <td>NaN</td>\n      <td>NaN</td>\n      <td>NaN</td>\n      <td>NaN</td>\n      <td>NaN</td>\n      <td>NaN</td>\n    </tr>\n    <tr>\n      <th>freq</th>\n      <td>1528</td>\n      <td>NaN</td>\n      <td>NaN</td>\n      <td>NaN</td>\n      <td>NaN</td>\n      <td>NaN</td>\n      <td>NaN</td>\n      <td>NaN</td>\n      <td>NaN</td>\n    </tr>\n    <tr>\n      <th>mean</th>\n      <td>NaN</td>\n      <td>0.5240</td>\n      <td>0.4079</td>\n      <td>0.1395</td>\n      <td>0.8287</td>\n      <td>0.3594</td>\n      <td>0.1806</td>\n      <td>0.2388</td>\n      <td>9.9337</td>\n    </tr>\n    <tr>\n      <th>std</th>\n      <td>NaN</td>\n      <td>0.1201</td>\n      <td>0.0992</td>\n      <td>0.0418</td>\n      <td>0.4904</td>\n      <td>0.2220</td>\n      <td>0.1096</td>\n      <td>0.1392</td>\n      <td>3.2242</td>\n    </tr>\n    <tr>\n      <th>min</th>\n      <td>NaN</td>\n      <td>0.0750</td>\n      <td>0.0550</td>\n      <td>0.0000</td>\n      <td>0.0020</td>\n      <td>0.0010</td>\n      <td>0.0005</td>\n      <td>0.0015</td>\n      <td>1.0000</td>\n    </tr>\n    <tr>\n      <th>25%</th>\n      <td>NaN</td>\n      <td>0.4500</td>\n      <td>0.3500</td>\n      <td>0.1150</td>\n      <td>0.4415</td>\n      <td>0.1860</td>\n      <td>0.0935</td>\n      <td>0.1300</td>\n      <td>8.0000</td>\n    </tr>\n    <tr>\n      <th>50%</th>\n      <td>NaN</td>\n      <td>0.5450</td>\n      <td>0.4250</td>\n      <td>0.1400</td>\n      <td>0.7995</td>\n      <td>0.3360</td>\n      <td>0.1710</td>\n      <td>0.2340</td>\n      <td>9.0000</td>\n    </tr>\n    <tr>\n      <th>75%</th>\n      <td>NaN</td>\n      <td>0.6150</td>\n      <td>0.4800</td>\n      <td>0.1650</td>\n      <td>1.1530</td>\n      <td>0.5020</td>\n      <td>0.2530</td>\n      <td>0.3290</td>\n      <td>11.0000</td>\n    </tr>\n    <tr>\n      <th>max</th>\n      <td>NaN</td>\n      <td>0.8150</td>\n      <td>0.6500</td>\n      <td>1.1300</td>\n      <td>2.8255</td>\n      <td>1.4880</td>\n      <td>0.7600</td>\n      <td>1.0050</td>\n      <td>29.0000</td>\n    </tr>\n  </tbody>\n</table>\n</div>"
     },
     "execution_count": 5,
     "metadata": {},
     "output_type": "execute_result"
    }
   ],
   "source": [
    "df.describe(include='all')"
   ]
  },
  {
   "cell_type": "code",
   "execution_count": 5,
   "outputs": [],
   "source": [],
   "metadata": {
    "collapsed": false
   }
  }
 ],
 "metadata": {
  "kernelspec": {
   "display_name": "Python 3 (ipykernel)",
   "language": "python",
   "name": "python3"
  },
  "language_info": {
   "codemirror_mode": {
    "name": "ipython",
    "version": 3
   },
   "file_extension": ".py",
   "mimetype": "text/x-python",
   "name": "python",
   "nbconvert_exporter": "python",
   "pygments_lexer": "ipython3",
   "version": "3.9.12"
  }
 },
 "nbformat": 4,
 "nbformat_minor": 5
}
