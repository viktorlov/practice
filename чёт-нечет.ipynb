{
 "cells": [
  {
   "cell_type": "code",
   "execution_count": 1,
   "id": "4cf4a619",
   "metadata": {
    "ExecuteTime": {
     "end_time": "2022-08-01T17:25:18.442521Z",
     "start_time": "2022-08-01T17:25:14.127360Z"
    }
   },
   "outputs": [],
   "source": [
    "import pandas as pd\n",
    "\n",
    "pd.set_option('display.float_format', lambda z: '%.2f' % z) # эта строка поможет удобно выводить большие числа в этом ноутбуке"
   ]
  },
  {
   "cell_type": "code",
   "execution_count": 2,
   "id": "2ae7d675",
   "metadata": {
    "ExecuteTime": {
     "end_time": "2022-08-01T17:30:13.000972Z",
     "start_time": "2022-08-01T17:30:10.708288Z"
    }
   },
   "outputs": [],
   "source": [
    "x, y = input(f'Введи начало и конец диапазона, раздели числа пробелом. Используй целые числа. ').strip().split()"
   ]
  },
  {
   "cell_type": "code",
   "execution_count": 3,
   "id": "ad062173",
   "metadata": {
    "ExecuteTime": {
     "end_time": "2022-08-01T17:30:14.982336Z",
     "start_time": "2022-08-01T17:30:14.966338Z"
    }
   },
   "outputs": [],
   "source": [
    "X = int(x)\n",
    "Y = int(y)"
   ]
  },
  {
   "cell_type": "code",
   "execution_count": 4,
   "id": "a3d9bfbc",
   "metadata": {
    "ExecuteTime": {
     "end_time": "2022-08-01T17:30:15.841114Z",
     "start_time": "2022-08-01T17:30:15.829116Z"
    }
   },
   "outputs": [],
   "source": [
    "A = min(X,Y)\n",
    "B = max(X,Y)"
   ]
  },
  {
   "cell_type": "code",
   "execution_count": 5,
   "id": "eb9b575b",
   "metadata": {
    "ExecuteTime": {
     "end_time": "2022-08-01T17:30:16.458817Z",
     "start_time": "2022-08-01T17:30:16.444815Z"
    }
   },
   "outputs": [
    {
     "data": {
      "text/plain": "12"
     },
     "execution_count": 5,
     "metadata": {},
     "output_type": "execute_result"
    }
   ],
   "source": [
    "A"
   ]
  },
  {
   "cell_type": "code",
   "execution_count": 6,
   "id": "fadec9b9",
   "metadata": {
    "ExecuteTime": {
     "end_time": "2022-08-01T17:30:17.025307Z",
     "start_time": "2022-08-01T17:30:17.006308Z"
    }
   },
   "outputs": [
    {
     "data": {
      "text/plain": "34"
     },
     "execution_count": 6,
     "metadata": {},
     "output_type": "execute_result"
    }
   ],
   "source": [
    "B"
   ]
  },
  {
   "cell_type": "code",
   "execution_count": 7,
   "id": "5b08b483",
   "metadata": {
    "ExecuteTime": {
     "end_time": "2022-08-01T17:30:17.629196Z",
     "start_time": "2022-08-01T17:30:17.607195Z"
    },
    "scrolled": false
   },
   "outputs": [
    {
     "name": "stdout",
     "output_type": "stream",
     "text": [
      "Число 12. Количество чётных = 1, порядковый номер 1\n",
      "Число 13. Количество нечётных = 1, порядковый номер 1\n",
      "Число 14. Количество чётных = 2, порядковый номер 2\n",
      "Число 15. Количество нечётных = 2, порядковый номер 2\n",
      "Число 16. Количество чётных = 3, порядковый номер 3\n",
      "Число 17. Количество нечётных = 3, порядковый номер 3\n",
      "Число 18. Количество чётных = 4, порядковый номер 4\n",
      "Число 19. Количество нечётных = 4, порядковый номер 4\n",
      "Число 20. Количество чётных = 5, порядковый номер 5\n",
      "Число 21. Количество нечётных = 5, порядковый номер 5\n",
      "Число 22. Количество чётных = 6, порядковый номер 6\n",
      "Число 23. Количество нечётных = 6, порядковый номер 6\n",
      "Число 24. Количество чётных = 7, порядковый номер 7\n",
      "Число 25. Количество нечётных = 7, порядковый номер 7\n",
      "Число 26. Количество чётных = 8, порядковый номер 8\n",
      "Число 27. Количество нечётных = 8, порядковый номер 8\n",
      "Число 28. Количество чётных = 9, порядковый номер 9\n",
      "Число 29. Количество нечётных = 9, порядковый номер 9\n",
      "Число 30. Количество чётных = 10, порядковый номер 10\n",
      "Число 31. Количество нечётных = 10, порядковый номер 10\n",
      "Число 32. Количество чётных = 11, порядковый номер 11\n",
      "Число 33. Количество нечётных = 11, порядковый номер 11\n",
      "Число 34. Количество чётных = 12, порядковый номер 12\n"
     ]
    }
   ],
   "source": [
    "Qp = 0 ### количество чётных\n",
    "Qnp = 0 ### количество нечётных\n",
    "Np = 0 ### порядковый номер чётных\n",
    "Nnp = 0 ### порядковый номер нечётных\n",
    "for each in range(A, B+1, 1):\n",
    "    if each % 2 == 0:\n",
    "        Qp += 1\n",
    "        Np += 1\n",
    "        print(f'Число {each}. Количество чётных = {Qp}, порядковый номер {Np}')\n",
    "    else:\n",
    "        Qnp += 1\n",
    "        Nnp += 1\n",
    "        print(f'Число {each}. Количество нечётных = {Qnp}, порядковый номер {Nnp}')\n"
   ]
  },
  {
   "cell_type": "code",
   "execution_count": 7,
   "id": "4e1c53db",
   "metadata": {},
   "outputs": [],
   "source": []
  }
 ],
 "metadata": {
  "kernelspec": {
   "display_name": "Python 3 (ipykernel)",
   "language": "python",
   "name": "python3"
  },
  "language_info": {
   "codemirror_mode": {
    "name": "ipython",
    "version": 3
   },
   "file_extension": ".py",
   "mimetype": "text/x-python",
   "name": "python",
   "nbconvert_exporter": "python",
   "pygments_lexer": "ipython3",
   "version": "3.9.12"
  }
 },
 "nbformat": 4,
 "nbformat_minor": 5
}
