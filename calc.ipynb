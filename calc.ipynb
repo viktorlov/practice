{
 "cells": [
  {
   "cell_type": "code",
   "execution_count": null,
   "id": "0208cd64",
   "metadata": {
    "ExecuteTime": {
     "end_time": "2022-09-22T13:02:51.536752Z",
     "start_time": "2022-09-22T13:02:40.278805Z"
    },
    "pycharm": {
     "is_executing": true
    }
   },
   "outputs": [],
   "source": [
    "from tkinter import *\n",
    "\n",
    "\n",
    "class Main(Frame):\n",
    "    def __init__(self, root):\n",
    "        super(Main, self).__init__(root)\n",
    "        self.build()\n",
    "\n",
    "    def build(self):\n",
    "        self.formula = \"0\"\n",
    "        self.lbl = Label(text=self.formula, font=(\n",
    "            \"Times New Roman\", 21, \"bold\"), bg=\"#000\", foreground=\"#FFF\")\n",
    "        self.lbl.place(x=11, y=50)\n",
    "\n",
    "        btns = [\n",
    "            \"C\", \"DEL\", \"*\", \"=\",\n",
    "            \"1\", \"2\", \"3\", \"/\",\n",
    "            \"4\", \"5\", \"6\", \"+\",\n",
    "            \"7\", \"8\", \"9\", \"-\",\n",
    "            \"(\", \"0\", \")\", \"X^2\"\n",
    "        ]\n",
    "\n",
    "        x = 10\n",
    "        y = 140\n",
    "        for bt in btns:\n",
    "            def com(x=bt):\n",
    "                return self.logicalc(x)\n",
    "\n",
    "            Button(text=bt, bg=\"#FFF\",\n",
    "                   font=(\"Times New Roman\", 15),\n",
    "                   command=com).place(x=x, y=y,\n",
    "                                      width=115,\n",
    "                                      height=79)\n",
    "            x += 117\n",
    "            if x > 400:\n",
    "                x = 10\n",
    "                y += 81\n",
    "\n",
    "    def logicalc(self, operation):\n",
    "        if operation == \"C\":\n",
    "            self.formula = \"\"\n",
    "        elif operation == \"DEL\":\n",
    "            self.formula = self.formula[0:-1]\n",
    "        elif operation == \"X^2\":\n",
    "            self.formula = str((eval(self.formula)) ** 2)\n",
    "        elif operation == \"=\":\n",
    "            self.formula = str(eval(self.formula))\n",
    "        else:\n",
    "            if self.formula == \"0\":\n",
    "                self.formula = \"\"\n",
    "            self.formula += operation\n",
    "        self.update()\n",
    "\n",
    "    def update(self):\n",
    "        if self.formula == \"\":\n",
    "            self.formula = \"0\"\n",
    "        self.lbl.configure(text=self.formula)\n",
    "\n",
    "\n",
    "if __name__ == '__main__':\n",
    "    root = Tk()\n",
    "    root[\"bg\"] = \"#000\"\n",
    "    root.geometry(\"485x550+200+200\")\n",
    "    root.title(\"Калькулятор\")\n",
    "    root.resizable(False, False)\n",
    "    app = Main(root)\n",
    "    app.pack()\n",
    "    root.mainloop()"
   ]
  },
  {
   "cell_type": "code",
   "execution_count": null,
   "id": "b37c8d21",
   "metadata": {},
   "outputs": [],
   "source": []
  }
 ],
 "metadata": {
  "kernelspec": {
   "display_name": "Python 3 (ipykernel)",
   "language": "python",
   "name": "python3"
  },
  "language_info": {
   "codemirror_mode": {
    "name": "ipython",
    "version": 3
   },
   "file_extension": ".py",
   "mimetype": "text/x-python",
   "name": "python",
   "nbconvert_exporter": "python",
   "pygments_lexer": "ipython3",
   "version": "3.9.12"
  }
 },
 "nbformat": 4,
 "nbformat_minor": 5
}
