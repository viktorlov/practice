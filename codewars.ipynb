{
 "cells": [
  {
   "cell_type": "code",
   "execution_count": 1,
   "id": "b1ce0de6",
   "metadata": {
    "ExecuteTime": {
     "end_time": "2022-10-15T10:19:46.533893Z",
     "start_time": "2022-10-15T10:19:46.517787Z"
    }
   },
   "outputs": [
    {
     "data": {
      "text/plain": "17"
     },
     "execution_count": 1,
     "metadata": {},
     "output_type": "execute_result"
    }
   ],
   "source": [
    "# https://www.codewars.com/kata/54edbc7200b811e956000556/solutions/python\n",
    "\n",
    "array1 = [True,  True,  True,  False,\n",
    "          True,  True,  True,  True,\n",
    "          True,  False, True,  False,\n",
    "          True,  False, False, True,\n",
    "          True,  True,  True,  True,\n",
    "          False, False, True,  True]\n",
    "\n",
    "\n",
    "def count_sheeps(sheep):\n",
    "    return sheep.count(True)\n",
    "\n",
    "\n",
    "count_sheeps(array1)"
   ]
  },
  {
   "cell_type": "code",
   "execution_count": 2,
   "id": "f87cbb4a",
   "metadata": {
    "ExecuteTime": {
     "end_time": "2022-10-15T09:54:07.932717Z",
     "start_time": "2022-10-15T09:54:07.921715Z"
    }
   },
   "outputs": [
    {
     "data": {
      "text/plain": "1"
     },
     "execution_count": 2,
     "metadata": {},
     "output_type": "execute_result"
    }
   ],
   "source": [
    "# https://www.codewars.com/kata/5865918c6b569962950002a1/solutions/python\n",
    "\n",
    "def str_count(strng, letter):\n",
    "    return strng.count(letter)\n",
    "\n",
    "\n",
    "str_count('codewars', 'c')"
   ]
  },
  {
   "cell_type": "code",
   "execution_count": 3,
   "id": "e479ed5f",
   "metadata": {
    "ExecuteTime": {
     "end_time": "2022-10-15T14:01:23.300304Z",
     "start_time": "2022-10-15T14:01:23.278307Z"
    }
   },
   "outputs": [
    {
     "data": {
      "text/plain": "30"
     },
     "execution_count": 3,
     "metadata": {},
     "output_type": "execute_result"
    }
   ],
   "source": [
    "# https://www.codewars.com/kata/5bb904724c47249b10000131/solutions/python\n",
    "\n",
    "score = ['1:0', '2:0', '3:0', '4:0', '2:1', '3:1', '4:1', '3:2', '4:2', '4:3']\n",
    "\n",
    "\n",
    "def points(games):\n",
    "    a = 0\n",
    "    for each in games:\n",
    "        if int(each[0]) == int(each[-1]):\n",
    "            a += 1\n",
    "        elif int(each[0]) > int(each[-1]):\n",
    "            a += 3\n",
    "        else:\n",
    "            continue\n",
    "    return a\n",
    "\n",
    "\n",
    "points(score)"
   ]
  },
  {
   "cell_type": "code",
   "execution_count": 4,
   "id": "037a741a",
   "metadata": {
    "ExecuteTime": {
     "end_time": "2022-10-15T16:13:29.218112Z",
     "start_time": "2022-10-15T16:13:29.204125Z"
    }
   },
   "outputs": [
    {
     "data": {
      "text/plain": "-1"
     },
     "execution_count": 4,
     "metadata": {},
     "output_type": "execute_result"
    }
   ],
   "source": [
    "# https://www.codewars.com/kata/5dd462a573ee6d0014ce715b/solutions\n",
    "def same_case(a, b):\n",
    "    return a.isupper() == b.isupper() if a.isalpha() and b.isalpha() else -1\n",
    "\n",
    "\n",
    "same_case('-', 'C')"
   ]
  },
  {
   "cell_type": "code",
   "execution_count": 5,
   "id": "8682612f",
   "metadata": {
    "ExecuteTime": {
     "end_time": "2022-10-16T10:32:30.398684Z",
     "start_time": "2022-10-16T10:32:30.386686Z"
    }
   },
   "outputs": [
    {
     "data": {
      "text/plain": "987656329"
     },
     "execution_count": 5,
     "metadata": {},
     "output_type": "execute_result"
    }
   ],
   "source": [
    "# https://www.codewars.com/kata/5a805d8cafa10f8b930005ba/solutions/python\n",
    "\n",
    "import math\n",
    "\n",
    "\n",
    "def nearest_sq(n):\n",
    "    diff = {}\n",
    "    sqrt = math.sqrt(n)\n",
    "    integer = int(sqrt // 1)\n",
    "    for each in range(integer-1, integer+2, 1):\n",
    "        diff[abs((each**2)-n)] = each**2\n",
    "    return diff[min(list(diff.keys()))]\n",
    "\n",
    "\n",
    "nearest_sq(987654321)"
   ]
  },
  {
   "cell_type": "code",
   "execution_count": 6,
   "id": "bf6b6f53",
   "metadata": {
    "ExecuteTime": {
     "end_time": "2022-10-16T10:41:33.143148Z",
     "start_time": "2022-10-16T10:41:33.124148Z"
    }
   },
   "outputs": [
    {
     "data": {
      "text/plain": "[-85, 72, 0, 68]"
     },
     "execution_count": 6,
     "metadata": {},
     "output_type": "execute_result"
    }
   ],
   "source": [
    "# https://www.codewars.com/kata/5a34b80155519e1a00000009/solutions/python\n",
    "\n",
    "def multiple_of_index(arr):\n",
    "    z = []\n",
    "    for index_, value_ in enumerate(arr):\n",
    "        if index_ == 0:\n",
    "            continue\n",
    "        else:\n",
    "            if not value_ % index_:\n",
    "                z.append(value_)\n",
    "    return z\n",
    "\n",
    "\n",
    "multiple_of_index([-56, -85, 72, -26, -14, 76, -27, 72,\n",
    "                  35, -21, -67, 87, 0, 21, 59, 27, -92, 68])"
   ]
  },
  {
   "cell_type": "code",
   "execution_count": 6,
   "id": "4ac6aac2",
   "metadata": {},
   "outputs": [],
   "source": []
  }
 ],
 "metadata": {
  "kernelspec": {
   "display_name": "Python 3 (ipykernel)",
   "language": "python",
   "name": "python3"
  },
  "language_info": {
   "codemirror_mode": {
    "name": "ipython",
    "version": 3
   },
   "file_extension": ".py",
   "mimetype": "text/x-python",
   "name": "python",
   "nbconvert_exporter": "python",
   "pygments_lexer": "ipython3",
   "version": "3.9.13"
  }
 },
 "nbformat": 4,
 "nbformat_minor": 5
}
